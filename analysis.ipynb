{
 "cells": [
  {
   "cell_type": "code",
   "execution_count": 1,
   "id": "74ae9428-1b5a-4175-a1a7-40dd14603215",
   "metadata": {},
   "outputs": [],
   "source": [
    "import pandas as pd\n",
    "import numpy as np \n",
    "import matplotlib.pyplot as plt\n",
    "import seaborn as sns\n",
    "import datetime"
   ]
  },
  {
   "cell_type": "code",
   "execution_count": 2,
   "id": "f13822f0-8cee-462f-b647-accc51a672f8",
   "metadata": {},
   "outputs": [],
   "source": [
    "nike_stock = pd.read_csv(\"/home/user/Desktop/Data_analysis_projects/Shoe_Brands/nike.csv\")\n",
    "adidas_stock = pd.read_csv(\"/home/user/Desktop/Data_analysis_projects/Shoe_Brands/adidas.csv\")"
   ]
  },
  {
   "cell_type": "code",
   "execution_count": 3,
   "id": "c0ba27d0-829a-4660-bdde-1c9a0e981830",
   "metadata": {},
   "outputs": [],
   "source": [
    "nike_stock.loc[:, \"date\"] = pd.to_datetime(nike_stock.loc[:, \"date\"])\n",
    "adidas_stock.loc[:, \"date\"] = pd.to_datetime(adidas_stock.loc[:, \"date\"])"
   ]
  },
  {
   "cell_type": "code",
   "execution_count": 4,
   "id": "b7076ba7-cca2-4149-8951-7520e255cd75",
   "metadata": {},
   "outputs": [
    {
     "data": {
      "text/html": [
       "<div>\n",
       "<style scoped>\n",
       "    .dataframe tbody tr th:only-of-type {\n",
       "        vertical-align: middle;\n",
       "    }\n",
       "\n",
       "    .dataframe tbody tr th {\n",
       "        vertical-align: top;\n",
       "    }\n",
       "\n",
       "    .dataframe thead th {\n",
       "        text-align: right;\n",
       "    }\n",
       "</style>\n",
       "<table border=\"1\" class=\"dataframe\">\n",
       "  <thead>\n",
       "    <tr style=\"text-align: right;\">\n",
       "      <th></th>\n",
       "      <th>1. open</th>\n",
       "      <th>2. high</th>\n",
       "      <th>3. low</th>\n",
       "      <th>4. close</th>\n",
       "      <th>5. volume</th>\n",
       "    </tr>\n",
       "  </thead>\n",
       "  <tbody>\n",
       "    <tr>\n",
       "      <th>count</th>\n",
       "      <td>4961.000000</td>\n",
       "      <td>4961.000000</td>\n",
       "      <td>4961.000000</td>\n",
       "      <td>4961.000000</td>\n",
       "      <td>4.961000e+03</td>\n",
       "    </tr>\n",
       "    <tr>\n",
       "      <th>mean</th>\n",
       "      <td>85.213382</td>\n",
       "      <td>86.089260</td>\n",
       "      <td>84.348470</td>\n",
       "      <td>85.235730</td>\n",
       "      <td>5.982110e+06</td>\n",
       "    </tr>\n",
       "    <tr>\n",
       "      <th>std</th>\n",
       "      <td>26.593931</td>\n",
       "      <td>26.783236</td>\n",
       "      <td>26.356173</td>\n",
       "      <td>26.561941</td>\n",
       "      <td>5.506224e+06</td>\n",
       "    </tr>\n",
       "    <tr>\n",
       "      <th>min</th>\n",
       "      <td>38.970000</td>\n",
       "      <td>40.080000</td>\n",
       "      <td>38.240000</td>\n",
       "      <td>38.570000</td>\n",
       "      <td>5.427130e+05</td>\n",
       "    </tr>\n",
       "    <tr>\n",
       "      <th>25%</th>\n",
       "      <td>63.610000</td>\n",
       "      <td>64.240000</td>\n",
       "      <td>62.850000</td>\n",
       "      <td>63.600000</td>\n",
       "      <td>2.851500e+06</td>\n",
       "    </tr>\n",
       "    <tr>\n",
       "      <th>50%</th>\n",
       "      <td>81.150000</td>\n",
       "      <td>81.910000</td>\n",
       "      <td>80.430000</td>\n",
       "      <td>81.200000</td>\n",
       "      <td>4.688400e+06</td>\n",
       "    </tr>\n",
       "    <tr>\n",
       "      <th>75%</th>\n",
       "      <td>99.550000</td>\n",
       "      <td>100.305000</td>\n",
       "      <td>98.850000</td>\n",
       "      <td>99.680000</td>\n",
       "      <td>7.503676e+06</td>\n",
       "    </tr>\n",
       "    <tr>\n",
       "      <th>max</th>\n",
       "      <td>176.350000</td>\n",
       "      <td>179.100000</td>\n",
       "      <td>175.495000</td>\n",
       "      <td>177.510000</td>\n",
       "      <td>1.299670e+08</td>\n",
       "    </tr>\n",
       "  </tbody>\n",
       "</table>\n",
       "</div>"
      ],
      "text/plain": [
       "           1. open      2. high       3. low     4. close     5. volume\n",
       "count  4961.000000  4961.000000  4961.000000  4961.000000  4.961000e+03\n",
       "mean     85.213382    86.089260    84.348470    85.235730  5.982110e+06\n",
       "std      26.593931    26.783236    26.356173    26.561941  5.506224e+06\n",
       "min      38.970000    40.080000    38.240000    38.570000  5.427130e+05\n",
       "25%      63.610000    64.240000    62.850000    63.600000  2.851500e+06\n",
       "50%      81.150000    81.910000    80.430000    81.200000  4.688400e+06\n",
       "75%      99.550000   100.305000    98.850000    99.680000  7.503676e+06\n",
       "max     176.350000   179.100000   175.495000   177.510000  1.299670e+08"
      ]
     },
     "execution_count": 4,
     "metadata": {},
     "output_type": "execute_result"
    }
   ],
   "source": [
    "nike_stock.describe()"
   ]
  },
  {
   "cell_type": "code",
   "execution_count": 5,
   "id": "586d3ff2-6418-4a8b-a87a-470a3a087021",
   "metadata": {},
   "outputs": [
    {
     "data": {
      "text/html": [
       "<div>\n",
       "<style scoped>\n",
       "    .dataframe tbody tr th:only-of-type {\n",
       "        vertical-align: middle;\n",
       "    }\n",
       "\n",
       "    .dataframe tbody tr th {\n",
       "        vertical-align: top;\n",
       "    }\n",
       "\n",
       "    .dataframe thead th {\n",
       "        text-align: right;\n",
       "    }\n",
       "</style>\n",
       "<table border=\"1\" class=\"dataframe\">\n",
       "  <thead>\n",
       "    <tr style=\"text-align: right;\">\n",
       "      <th></th>\n",
       "      <th>1. open</th>\n",
       "      <th>2. high</th>\n",
       "      <th>3. low</th>\n",
       "      <th>4. close</th>\n",
       "      <th>5. volume</th>\n",
       "    </tr>\n",
       "  </thead>\n",
       "  <tbody>\n",
       "    <tr>\n",
       "      <th>1. open</th>\n",
       "      <td>1.000000</td>\n",
       "      <td>0.999535</td>\n",
       "      <td>0.999479</td>\n",
       "      <td>0.998995</td>\n",
       "      <td>-0.061647</td>\n",
       "    </tr>\n",
       "    <tr>\n",
       "      <th>2. high</th>\n",
       "      <td>0.999535</td>\n",
       "      <td>1.000000</td>\n",
       "      <td>0.999288</td>\n",
       "      <td>0.999504</td>\n",
       "      <td>-0.055346</td>\n",
       "    </tr>\n",
       "    <tr>\n",
       "      <th>3. low</th>\n",
       "      <td>0.999479</td>\n",
       "      <td>0.999288</td>\n",
       "      <td>1.000000</td>\n",
       "      <td>0.999497</td>\n",
       "      <td>-0.068230</td>\n",
       "    </tr>\n",
       "    <tr>\n",
       "      <th>4. close</th>\n",
       "      <td>0.998995</td>\n",
       "      <td>0.999504</td>\n",
       "      <td>0.999497</td>\n",
       "      <td>1.000000</td>\n",
       "      <td>-0.062401</td>\n",
       "    </tr>\n",
       "    <tr>\n",
       "      <th>5. volume</th>\n",
       "      <td>-0.061647</td>\n",
       "      <td>-0.055346</td>\n",
       "      <td>-0.068230</td>\n",
       "      <td>-0.062401</td>\n",
       "      <td>1.000000</td>\n",
       "    </tr>\n",
       "  </tbody>\n",
       "</table>\n",
       "</div>"
      ],
      "text/plain": [
       "            1. open   2. high    3. low  4. close  5. volume\n",
       "1. open    1.000000  0.999535  0.999479  0.998995  -0.061647\n",
       "2. high    0.999535  1.000000  0.999288  0.999504  -0.055346\n",
       "3. low     0.999479  0.999288  1.000000  0.999497  -0.068230\n",
       "4. close   0.998995  0.999504  0.999497  1.000000  -0.062401\n",
       "5. volume -0.061647 -0.055346 -0.068230 -0.062401   1.000000"
      ]
     },
     "execution_count": 5,
     "metadata": {},
     "output_type": "execute_result"
    }
   ],
   "source": [
    "nike_stock.corr()"
   ]
  },
  {
   "cell_type": "code",
   "execution_count": 6,
   "id": "3c435711-7a48-45d1-8e2d-89e965e0f0a1",
   "metadata": {},
   "outputs": [
    {
     "data": {
      "text/plain": [
       "array([[ 1.  ,  2.  ,  3.  ,  4.  ],\n",
       "       [86.79, 87.4 , 85.34, 85.95],\n",
       "       [85.65, 86.4 , 85.35, 85.55],\n",
       "       ...,\n",
       "       [73.44, 73.6 , 71.63, 72.1 ],\n",
       "       [72.01, 72.25, 70.74, 70.89],\n",
       "       [70.78, 72.49, 70.42, 71.28]])"
      ]
     },
     "execution_count": 6,
     "metadata": {},
     "output_type": "execute_result"
    }
   ],
   "source": [
    "needs = [\"1. open\", \"2. high\", \"3. low\", \"4. close\"]\n",
    "nike_arr = np.zeros((len(nike_stock)+1, 4))\n",
    "nike_arr[0] = np.arange(1,5)\n",
    "for i, col in enumerate(needs):\n",
    "    details_nike = np.round(nike_stock.loc[:, col], decimals = 2)\n",
    "    nike_arr[1:, i] = details_nike\n",
    "nike_arr"
   ]
  },
  {
   "cell_type": "code",
   "execution_count": 7,
   "id": "e2a0e7cb-1475-498b-9169-0d4ef317de0e",
   "metadata": {},
   "outputs": [
    {
     "data": {
      "text/html": [
       "<div>\n",
       "<style scoped>\n",
       "    .dataframe tbody tr th:only-of-type {\n",
       "        vertical-align: middle;\n",
       "    }\n",
       "\n",
       "    .dataframe tbody tr th {\n",
       "        vertical-align: top;\n",
       "    }\n",
       "\n",
       "    .dataframe thead th {\n",
       "        text-align: right;\n",
       "    }\n",
       "</style>\n",
       "<table border=\"1\" class=\"dataframe\">\n",
       "  <thead>\n",
       "    <tr style=\"text-align: right;\">\n",
       "      <th></th>\n",
       "      <th>1. open</th>\n",
       "      <th>2. high</th>\n",
       "      <th>3. low</th>\n",
       "      <th>4. close</th>\n",
       "      <th>5. volume</th>\n",
       "    </tr>\n",
       "  </thead>\n",
       "  <tbody>\n",
       "    <tr>\n",
       "      <th>count</th>\n",
       "      <td>4919.000000</td>\n",
       "      <td>4919.000000</td>\n",
       "      <td>4919.000000</td>\n",
       "      <td>4919.000000</td>\n",
       "      <td>4.919000e+03</td>\n",
       "    </tr>\n",
       "    <tr>\n",
       "      <th>mean</th>\n",
       "      <td>76.169242</td>\n",
       "      <td>76.715857</td>\n",
       "      <td>75.611098</td>\n",
       "      <td>76.193965</td>\n",
       "      <td>5.953900e+04</td>\n",
       "    </tr>\n",
       "    <tr>\n",
       "      <th>std</th>\n",
       "      <td>46.745422</td>\n",
       "      <td>47.021752</td>\n",
       "      <td>46.408842</td>\n",
       "      <td>46.740762</td>\n",
       "      <td>1.008696e+05</td>\n",
       "    </tr>\n",
       "    <tr>\n",
       "      <th>min</th>\n",
       "      <td>13.650000</td>\n",
       "      <td>14.000000</td>\n",
       "      <td>12.950000</td>\n",
       "      <td>13.000000</td>\n",
       "      <td>0.000000e+00</td>\n",
       "    </tr>\n",
       "    <tr>\n",
       "      <th>25%</th>\n",
       "      <td>33.930000</td>\n",
       "      <td>34.250000</td>\n",
       "      <td>33.600000</td>\n",
       "      <td>33.960000</td>\n",
       "      <td>1.871450e+04</td>\n",
       "    </tr>\n",
       "    <tr>\n",
       "      <th>50%</th>\n",
       "      <td>60.120000</td>\n",
       "      <td>60.390000</td>\n",
       "      <td>59.791000</td>\n",
       "      <td>60.260000</td>\n",
       "      <td>3.113500e+04</td>\n",
       "    </tr>\n",
       "    <tr>\n",
       "      <th>75%</th>\n",
       "      <td>113.762500</td>\n",
       "      <td>114.475000</td>\n",
       "      <td>112.895000</td>\n",
       "      <td>113.670000</td>\n",
       "      <td>5.841300e+04</td>\n",
       "    </tr>\n",
       "    <tr>\n",
       "      <th>max</th>\n",
       "      <td>196.680000</td>\n",
       "      <td>199.440000</td>\n",
       "      <td>196.280000</td>\n",
       "      <td>198.680000</td>\n",
       "      <td>2.511831e+06</td>\n",
       "    </tr>\n",
       "  </tbody>\n",
       "</table>\n",
       "</div>"
      ],
      "text/plain": [
       "           1. open      2. high       3. low     4. close     5. volume\n",
       "count  4919.000000  4919.000000  4919.000000  4919.000000  4.919000e+03\n",
       "mean     76.169242    76.715857    75.611098    76.193965  5.953900e+04\n",
       "std      46.745422    47.021752    46.408842    46.740762  1.008696e+05\n",
       "min      13.650000    14.000000    12.950000    13.000000  0.000000e+00\n",
       "25%      33.930000    34.250000    33.600000    33.960000  1.871450e+04\n",
       "50%      60.120000    60.390000    59.791000    60.260000  3.113500e+04\n",
       "75%     113.762500   114.475000   112.895000   113.670000  5.841300e+04\n",
       "max     196.680000   199.440000   196.280000   198.680000  2.511831e+06"
      ]
     },
     "execution_count": 7,
     "metadata": {},
     "output_type": "execute_result"
    }
   ],
   "source": [
    "adidas_stock.describe()"
   ]
  },
  {
   "cell_type": "code",
   "execution_count": 8,
   "id": "54d12523-60bc-4f85-b65a-98839d38d751",
   "metadata": {},
   "outputs": [
    {
     "data": {
      "text/html": [
       "<div>\n",
       "<style scoped>\n",
       "    .dataframe tbody tr th:only-of-type {\n",
       "        vertical-align: middle;\n",
       "    }\n",
       "\n",
       "    .dataframe tbody tr th {\n",
       "        vertical-align: top;\n",
       "    }\n",
       "\n",
       "    .dataframe thead th {\n",
       "        text-align: right;\n",
       "    }\n",
       "</style>\n",
       "<table border=\"1\" class=\"dataframe\">\n",
       "  <thead>\n",
       "    <tr style=\"text-align: right;\">\n",
       "      <th></th>\n",
       "      <th>1. open</th>\n",
       "      <th>2. high</th>\n",
       "      <th>3. low</th>\n",
       "      <th>4. close</th>\n",
       "      <th>5. volume</th>\n",
       "    </tr>\n",
       "  </thead>\n",
       "  <tbody>\n",
       "    <tr>\n",
       "      <th>1. open</th>\n",
       "      <td>1.000000</td>\n",
       "      <td>0.999870</td>\n",
       "      <td>0.999882</td>\n",
       "      <td>0.999817</td>\n",
       "      <td>0.042495</td>\n",
       "    </tr>\n",
       "    <tr>\n",
       "      <th>2. high</th>\n",
       "      <td>0.999870</td>\n",
       "      <td>1.000000</td>\n",
       "      <td>0.999808</td>\n",
       "      <td>0.999867</td>\n",
       "      <td>0.043970</td>\n",
       "    </tr>\n",
       "    <tr>\n",
       "      <th>3. low</th>\n",
       "      <td>0.999882</td>\n",
       "      <td>0.999808</td>\n",
       "      <td>1.000000</td>\n",
       "      <td>0.999911</td>\n",
       "      <td>0.039910</td>\n",
       "    </tr>\n",
       "    <tr>\n",
       "      <th>4. close</th>\n",
       "      <td>0.999817</td>\n",
       "      <td>0.999867</td>\n",
       "      <td>0.999911</td>\n",
       "      <td>1.000000</td>\n",
       "      <td>0.041309</td>\n",
       "    </tr>\n",
       "    <tr>\n",
       "      <th>5. volume</th>\n",
       "      <td>0.042495</td>\n",
       "      <td>0.043970</td>\n",
       "      <td>0.039910</td>\n",
       "      <td>0.041309</td>\n",
       "      <td>1.000000</td>\n",
       "    </tr>\n",
       "  </tbody>\n",
       "</table>\n",
       "</div>"
      ],
      "text/plain": [
       "            1. open   2. high    3. low  4. close  5. volume\n",
       "1. open    1.000000  0.999870  0.999882  0.999817   0.042495\n",
       "2. high    0.999870  1.000000  0.999808  0.999867   0.043970\n",
       "3. low     0.999882  0.999808  1.000000  0.999911   0.039910\n",
       "4. close   0.999817  0.999867  0.999911  1.000000   0.041309\n",
       "5. volume  0.042495  0.043970  0.039910  0.041309   1.000000"
      ]
     },
     "execution_count": 8,
     "metadata": {},
     "output_type": "execute_result"
    }
   ],
   "source": [
    "adidas_stock.corr()"
   ]
  },
  {
   "cell_type": "code",
   "execution_count": 9,
   "id": "92f36697-4036-47ab-815f-431a9e4aa290",
   "metadata": {},
   "outputs": [
    {
     "data": {
      "text/plain": [
       "array([[  1.  ,   2.  ,   3.  ,   4.  ],\n",
       "       [ 99.25,  99.25,  98.75,  99.25],\n",
       "       [100.75, 100.75, 100.75, 100.75],\n",
       "       ...,\n",
       "       [106.22, 107.13, 105.68, 107.  ],\n",
       "       [106.53, 106.62, 105.  , 105.55],\n",
       "       [105.25, 106.12, 104.75, 105.7 ]])"
      ]
     },
     "execution_count": 9,
     "metadata": {},
     "output_type": "execute_result"
    }
   ],
   "source": [
    "needs = [\"1. open\", \"2. high\", \"3. low\", \"4. close\"]\n",
    "adidas_arr = np.zeros((len(adidas_stock)+1, 4))\n",
    "adidas_arr[0] = np.arange(1,5)\n",
    "for i, col in enumerate(needs):\n",
    "    details_adidas = np.round(adidas_stock.loc[:, col], decimals = 2)\n",
    "    adidas_arr[1:, i] = details_adidas\n",
    "adidas_arr"
   ]
  },
  {
   "cell_type": "code",
   "execution_count": 10,
   "id": "040b3ce5-3a75-4981-b2d2-7b1552fab7ac",
   "metadata": {},
   "outputs": [],
   "source": [
    "com = nike_arr[1:4920, :] - adidas_arr[1:]\n"
   ]
  },
  {
   "cell_type": "code",
   "execution_count": 11,
   "id": "d54b353a-7398-42b6-9dfd-eeec666f9a6e",
   "metadata": {},
   "outputs": [
    {
     "data": {
      "image/png": "[encoded data removed]",
      "text/plain": [
       "<Figure size 1680x720 with 1 Axes>"
      ]
     },
     "metadata": {
      "needs_background": "light"
     },
     "output_type": "display_data"
    }
   ],
   "source": [
    "plt.figure(dpi = 120, figsize = (14, 6)) \n",
    "plt.plot(nike_stock[\"date\"].dt.year, nike_stock[\"4. close\"], c = \"r\", label = \"Nike\")\n",
    "plt.plot(adidas_stock[\"date\"].dt.year, adidas_stock[\"4. close\"], c = \"b\", label = \"Adidas\")\n",
    "plt.xticks(np.arange(2006, 2027, 2))\n",
    "plt.xlabel(\"Year\", fontweight = \"bold\")\n",
    "plt.ylabel(\"Stock Price in USD\", fontweight = \"bold\")\n",
    "plt.legend()\n",
    "plt.show()"
   ]
  },
  {
   "cell_type": "code",
   "execution_count": 12,
   "id": "f6375fb5-84bb-4643-a4ba-756e0fc95663",
   "metadata": {},
   "outputs": [
    {
     "data": {
      "text/html": [
       "<div>\n",
       "<style scoped>\n",
       "    .dataframe tbody tr th:only-of-type {\n",
       "        vertical-align: middle;\n",
       "    }\n",
       "\n",
       "    .dataframe tbody tr th {\n",
       "        vertical-align: top;\n",
       "    }\n",
       "\n",
       "    .dataframe thead th {\n",
       "        text-align: right;\n",
       "    }\n",
       "</style>\n",
       "<table border=\"1\" class=\"dataframe\">\n",
       "  <thead>\n",
       "    <tr style=\"text-align: right;\">\n",
       "      <th></th>\n",
       "      <th>date</th>\n",
       "      <th>1. open</th>\n",
       "      <th>2. high</th>\n",
       "      <th>3. low</th>\n",
       "      <th>4. close</th>\n",
       "      <th>5. volume</th>\n",
       "    </tr>\n",
       "  </thead>\n",
       "  <tbody>\n",
       "    <tr>\n",
       "      <th>799</th>\n",
       "      <td>2009-03-09</td>\n",
       "      <td>39.35</td>\n",
       "      <td>40.08</td>\n",
       "      <td>38.24</td>\n",
       "      <td>38.57</td>\n",
       "      <td>5173800.0</td>\n",
       "    </tr>\n",
       "  </tbody>\n",
       "</table>\n",
       "</div>"
      ],
      "text/plain": [
       "          date  1. open  2. high  3. low  4. close  5. volume\n",
       "799 2009-03-09    39.35    40.08   38.24     38.57  5173800.0"
      ]
     },
     "execution_count": 12,
     "metadata": {},
     "output_type": "execute_result"
    }
   ],
   "source": [
    "nike_stock[nike_stock[\"4. close\"] == nike_stock[\"4. close\"].min()]"
   ]
  },
  {
   "cell_type": "code",
   "execution_count": 13,
   "id": "87640004-545a-44fe-86db-65d67f744811",
   "metadata": {},
   "outputs": [
    {
     "data": {
      "text/html": [
       "<div>\n",
       "<style scoped>\n",
       "    .dataframe tbody tr th:only-of-type {\n",
       "        vertical-align: middle;\n",
       "    }\n",
       "\n",
       "    .dataframe tbody tr th {\n",
       "        vertical-align: top;\n",
       "    }\n",
       "\n",
       "    .dataframe thead th {\n",
       "        text-align: right;\n",
       "    }\n",
       "</style>\n",
       "<table border=\"1\" class=\"dataframe\">\n",
       "  <thead>\n",
       "    <tr style=\"text-align: right;\">\n",
       "      <th></th>\n",
       "      <th>date</th>\n",
       "      <th>1. open</th>\n",
       "      <th>2. high</th>\n",
       "      <th>3. low</th>\n",
       "      <th>4. close</th>\n",
       "      <th>5. volume</th>\n",
       "    </tr>\n",
       "  </thead>\n",
       "  <tbody>\n",
       "    <tr>\n",
       "      <th>685</th>\n",
       "      <td>2008-11-20</td>\n",
       "      <td>13.65</td>\n",
       "      <td>14.05</td>\n",
       "      <td>12.95</td>\n",
       "      <td>13.0</td>\n",
       "      <td>56412.0</td>\n",
       "    </tr>\n",
       "  </tbody>\n",
       "</table>\n",
       "</div>"
      ],
      "text/plain": [
       "          date  1. open  2. high  3. low  4. close  5. volume\n",
       "685 2008-11-20    13.65    14.05   12.95      13.0    56412.0"
      ]
     },
     "execution_count": 13,
     "metadata": {},
     "output_type": "execute_result"
    }
   ],
   "source": [
    "adidas_stock[adidas_stock[\"4. close\"] == adidas_stock[\"4. close\"].min()]"
   ]
  },
  {
   "cell_type": "code",
   "execution_count": 14,
   "id": "7c6e46af-7aa6-41a2-8d97-c8cea6058c40",
   "metadata": {},
   "outputs": [
    {
     "data": {
      "text/plain": [
       "array([[ 1.  ,  2.  ,  3.  , ..., 10.  , 11.  , 12.  ],\n",
       "       [85.95, 83.13, 86.31, ..., 87.48, 91.39, 97.6 ],\n",
       "       [85.55, 83.35, 86.05, ..., 87.86, 92.8 , 98.14],\n",
       "       ...,\n",
       "       [ 0.  ,  0.  ,  0.  , ...,  0.  ,  0.  ,  0.  ],\n",
       "       [ 0.  ,  0.  ,  0.  , ...,  0.  ,  0.  ,  0.  ],\n",
       "       [ 0.  ,  0.  ,  0.  , ...,  0.  ,  0.  ,  0.  ]])"
      ]
     },
     "execution_count": 14,
     "metadata": {},
     "output_type": "execute_result"
    }
   ],
   "source": [
    "# intialising array\n",
    "nike_month_arr = np.zeros((444, 12))\n",
    "nike_month_arr[0] = np.arange(1, 13)\n",
    "# getting values\n",
    "months_nike = nike_stock[\"date\"].dt.month.values\n",
    "prices_nike = nike_stock[\"4. close\"].values\n",
    "# filling\n",
    "for month in months_nike:\n",
    "    month_prices_nike = prices_nike[months_nike == month]\n",
    "    nike_month_arr[1 : len(month_prices_nike) + 1, month - 1] = month_prices_nike\n",
    "nike_month_arr"
   ]
  },
  {
   "cell_type": "code",
   "execution_count": 15,
   "id": "41efb836-45bf-4218-89ba-70a78293872d",
   "metadata": {},
   "outputs": [
    {
     "data": {
      "text/plain": [
       "array([[  1.  ,   2.  ,   3.  , ...,  10.  ,  11.  ,  12.  ],\n",
       "       [ 99.25, 105.  ,  99.  , ...,  24.7 ,  24.7 ,  24.55],\n",
       "       [100.75, 105.  ,  94.25, ...,  24.7 ,  24.7 ,  24.55],\n",
       "       ...,\n",
       "       [  0.  ,   0.  ,   0.  , ...,   0.  ,   0.  ,   0.  ],\n",
       "       [  0.  ,   0.  ,   0.  , ...,   0.  ,   0.  ,   0.  ],\n",
       "       [  0.  ,   0.  ,   0.  , ...,   0.  ,   0.  ,   0.  ]])"
      ]
     },
     "execution_count": 15,
     "metadata": {},
     "output_type": "execute_result"
    }
   ],
   "source": [
    "# intialising \n",
    "adidas_month_arr = np.zeros((444, 12))\n",
    "adidas_month_arr[0] = np.arange(1, 13)\n",
    "months_adidas = adidas_stock[\"date\"].dt.month.values\n",
    "prices_adidas = adidas_stock[\"4. close\"].values\n",
    "\n",
    "for month in months_adidas:\n",
    "    month_prices_adidas = prices_adidas[months_adidas == month]\n",
    "    adidas_month_arr[1 : len(month_prices_adidas) + 1, month - 1] = month_prices_adidas\n",
    "adidas_month_arr"
   ]
  },
  {
   "cell_type": "code",
   "execution_count": 16,
   "id": "9d0d1d4f-f84b-4243-bdc4-f9a8afd139ca",
   "metadata": {},
   "outputs": [
    {
     "name": "stdout",
     "output_type": "stream",
     "text": [
      "1 77.9635914221219\n",
      "2 74.70117381489841\n",
      "3 84.23916478555306\n",
      "4 76.60638826185102\n",
      "5 78.12038374717834\n",
      "6 78.3413769751693\n",
      "7 79.08349887133183\n",
      "8 84.1725282167043\n",
      "9 77.19835214446951\n",
      "10 82.39497629796838\n",
      "11 79.0339051918736\n",
      "12 82.66939051918736\n"
     ]
    }
   ],
   "source": [
    "for i in range(0,12):\n",
    "    print(i+1, np.mean(nike_month_arr[1:, i]))"
   ]
  },
  {
   "cell_type": "code",
   "execution_count": 17,
   "id": "640cf5cb-eb5d-4926-90c6-ea3fb625ac4b",
   "metadata": {},
   "outputs": [
    {
     "name": "stdout",
     "output_type": "stream",
     "text": [
      "1 70.46818713318285\n",
      "2 66.28977742663656\n",
      "3 69.94216794582391\n",
      "4 68.15143679458238\n",
      "5 73.65547629796839\n",
      "6 75.84083589164787\n",
      "7 73.71218013544018\n",
      "8 77.01342460496613\n",
      "9 68.9834618510158\n",
      "10 70.01845688487585\n",
      "11 64.90214582392777\n",
      "12 67.06785146726862\n"
     ]
    }
   ],
   "source": [
    "for i in range(0, 12):\n",
    "    print(i+1, np.mean(adidas_month_arr[1:, i]))"
   ]
  },
  {
   "cell_type": "code",
   "execution_count": 18,
   "id": "ee4da358-4d5c-4c99-8d3c-0601b0667457",
   "metadata": {},
   "outputs": [],
   "source": [
    "def create_yearly_array(stock_data):\n",
    "    \"\"\" \n",
    "    for creating a yearly numpy with stock prices at the end of a particular period\n",
    "    parameter = A pandas data containing necessary stock data\n",
    "    return - A numpy array of size 5080\n",
    "    \"\"\"\n",
    "    # getting values\n",
    "    years = stock_data[\"date\"].dt.year.values\n",
    "    y_prices = stock_data[\"4. close\"].values\n",
    "    # intialising the array\n",
    "    year_arr = np.zeros((254, 20))\n",
    "    year_arr[0] = np.arange(2006, 2026)\n",
    "    # looping \n",
    "    for col, year in enumerate(np.unique(years)):\n",
    "        year_prices = y_prices[years == year]\n",
    "        year_arr[1: len(year_prices) + 1, col] = year_prices\n",
    "    \n",
    "    return year_arr"
   ]
  },
  {
   "cell_type": "code",
   "execution_count": 19,
   "id": "45f1ade4-4701-4600-90ae-6d9ab6093d4c",
   "metadata": {},
   "outputs": [
    {
     "data": {
      "text/plain": [
       "array([[2006.  , 2007.  , 2008.  , ..., 2023.  , 2024.  , 2025.  ],\n",
       "       [  99.25,   25.  ,   36.5 , ...,   69.74,   99.55,  121.11],\n",
       "       [ 100.75,   25.  ,   36.75, ...,   73.49,   97.71,  120.34],\n",
       "       ...,\n",
       "       [   0.  ,   37.2 ,   18.3 , ...,    0.  ,  122.39,    0.  ],\n",
       "       [   0.  ,    0.  ,   19.05, ...,    0.  ,  121.77,    0.  ],\n",
       "       [   0.  ,    0.  ,   19.35, ...,    0.  ,    0.  ,    0.  ]])"
      ]
     },
     "execution_count": 19,
     "metadata": {},
     "output_type": "execute_result"
    }
   ],
   "source": [
    "# intialising \n",
    "\n",
    "nike_year_arr = create_yearly_array(nike_stock)\n",
    "adidas_year_arr = create_yearly_array(adidas_stock)\n",
    "\n",
    "adidas_year_arr"
   ]
  },
  {
   "cell_type": "code",
   "execution_count": 20,
   "id": "9a951745-5315-4d17-9ec4-3a9f13610349",
   "metadata": {},
   "outputs": [
    {
     "name": "stdout",
     "output_type": "stream",
     "text": [
      "2006.0 84.63122924901187\n",
      "2007.0 68.80628458498025\n",
      "2008.0 60.060671936758894\n",
      "2009.0 54.57727272727272\n",
      "2010.0 74.26537549407115\n",
      "2011.0 86.38632411067194\n",
      "2012.0 98.90671936758893\n",
      "2013.0 64.53549407114625\n",
      "2014.0 80.51055335968378\n",
      "2015.0 108.56446640316204\n",
      "2016.0 56.02494071146245\n",
      "2017.0 55.26559090909092\n",
      "2018.0 72.36221343873518\n",
      "2019.0 86.39055335968378\n",
      "2020.0 106.45557312252966\n",
      "2021.0 149.9975098814229\n",
      "2022.0 115.72525691699605\n",
      "2023.0 111.15750988142292\n",
      "2024.0 87.37790513833993\n",
      "2025.0 49.3600395256917\n"
     ]
    }
   ],
   "source": [
    "for i, year in enumerate(nike_year_arr[0]):\n",
    "    print(year, np.mean(nike_year_arr[1:, i]))"
   ]
  },
  {
   "cell_type": "code",
   "execution_count": 21,
   "id": "71d31712-4da1-42d1-a3e2-afddbb2e06ec",
   "metadata": {},
   "outputs": [
    {
     "name": "stdout",
     "output_type": "stream",
     "text": [
      "2006.0 45.72466403162056\n",
      "2007.0 29.389999999999997\n",
      "2008.0 28.212806324110673\n",
      "2009.0 21.06837944664032\n",
      "2010.0 28.069071146245054\n",
      "2011.0 34.03521739130435\n",
      "2012.0 38.80611739130435\n",
      "2013.0 53.46532015810276\n",
      "2014.0 47.00516600790514\n",
      "2015.0 40.386367588932806\n",
      "2016.0 68.89746837944665\n",
      "2017.0 99.22782608695653\n",
      "2018.0 113.8854743083004\n",
      "2019.0 140.3001581027668\n",
      "2020.0 146.19677154150196\n",
      "2021.0 168.42021225296443\n",
      "2022.0 90.58507470355731\n",
      "2023.0 88.79456679841897\n",
      "2024.0 115.39044782608697\n",
      "2025.0 83.55435770750988\n"
     ]
    }
   ],
   "source": [
    "for i, year in enumerate(adidas_year_arr[0]):\n",
    "    print(year, np.mean(adidas_year_arr[1:, i]))"
   ]
  },
  {
   "cell_type": "code",
   "execution_count": null,
   "id": "d1476dab-d98e-48df-84c1-b347acd5a072",
   "metadata": {},
   "outputs": [],
   "source": []
  },
  {
   "cell_type": "code",
   "execution_count": null,
   "id": "3218e26d-1500-49ef-a9f0-4d34dbe56cdd",
   "metadata": {},
   "outputs": [],
   "source": []
  }
 ],
 "metadata": {
  "kernelspec": {
   "display_name": "Python 3",
   "language": "python",
   "name": "python3"
  },
  "language_info": {
   "codemirror_mode": {
    "name": "ipython",
    "version": 3
   },
   "file_extension": ".py",
   "mimetype": "text/x-python",
   "name": "python",
   "nbconvert_exporter": "python",
   "pygments_lexer": "ipython3",
   "version": "3.6.9"
  }
 },
 "nbformat": 4,
 "nbformat_minor": 5
}
